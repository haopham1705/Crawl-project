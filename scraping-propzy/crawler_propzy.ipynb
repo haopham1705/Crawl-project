{
 "cells": [
  {
   "cell_type": "code",
   "execution_count": 1,
   "id": "6798e246",
   "metadata": {},
   "outputs": [
    {
     "name": "stdout",
     "output_type": "stream",
     "text": [
      "import library sucessful\n"
     ]
    }
   ],
   "source": [
    "# import package\n",
    "from datetime import datetime, timedelta\n",
    "from selenium import webdriver\n",
    "from selenium.webdriver.common.keys import Keys\n",
    "from selenium.webdriver.support.select import Select\n",
    "from bs4 import BeautifulSoup\n",
    "from time import sleep\n",
    "import pandas as pd\n",
    "print(\"import library sucessful\")"
   ]
  },
  {
   "cell_type": "code",
   "execution_count": 2,
   "id": "0ea6b878",
   "metadata": {},
   "outputs": [],
   "source": [
    "# open website\n",
    "url = 'https://propzy.vn/'\n",
    "browser = webdriver.Chrome()\n",
    "sleep(2)\n",
    "browser.get(url)"
   ]
  },
  {
   "cell_type": "code",
   "execution_count": 3,
   "id": "eb543d3c",
   "metadata": {},
   "outputs": [
    {
     "name": "stdout",
     "output_type": "stream",
     "text": [
      "Enter address you want to search?quan 10\n"
     ]
    }
   ],
   "source": [
    "# searching\n",
    "search_field = browser.find_element_by_xpath('/html/body/div[1]/section[1]/div[2]/div/div/div[2]/div/div/div/div[1]/div/div[2]/div/input') \n",
    "search_query = input('Enter address you want to search?\\n')\n",
    "search_field.send_keys(search_query)\n",
    "search_field.send_keys(Keys.RETURN)\n",
    "sleep(2)"
   ]
  },
  {
   "cell_type": "code",
   "execution_count": 4,
   "id": "fc3b6e7f",
   "metadata": {},
   "outputs": [],
   "source": [
    "soup = BeautifulSoup(browser.page_source, 'lxml')\n",
    "list_houses = soup.find_all('div', class_='item-listing listing-card view-as-grid item-compare')\n",
    "# print(list_estates)\n",
    "data_real_estate = []"
   ]
  },
  {
   "cell_type": "code",
   "execution_count": 5,
   "id": "0284920a",
   "metadata": {
    "scrolled": true
   },
   "outputs": [
    {
     "name": "stdout",
     "output_type": "stream",
     "text": [
      "How many pages you want to scrape: 10\n",
      "Profile OK\n",
      "Profile OK\n",
      "Profile OK\n",
      "Profile OK\n",
      "Profile OK\n",
      "Profile OK\n",
      "Profile OK\n",
      "Profile OK\n",
      "Profile OK\n",
      "Profile OK\n",
      "Profile OK\n",
      "Profile OK\n",
      "Profile OK\n",
      "Profile OK\n",
      "Profile OK\n",
      "Profile OK\n",
      "Profile OK\n",
      "Profile OK\n",
      "Profile OK\n",
      "Profile OK\n",
      "Profile OK\n",
      "Profile OK\n",
      "Profile OK\n",
      "Profile OK\n",
      "Profile OK\n",
      "Profile OK\n",
      "Profile OK\n",
      "Profile OK\n",
      "Profile OK\n",
      "Profile OK\n",
      "Profile OK\n",
      "Profile OK\n",
      "Profile OK\n",
      "Profile OK\n",
      "Profile OK\n",
      "Profile OK\n",
      "Profile OK\n",
      "Profile OK\n",
      "Profile OK\n",
      "Profile OK\n",
      "Profile OK\n",
      "Profile OK\n",
      "Profile OK\n",
      "Profile OK\n",
      "Profile OK\n",
      "Profile OK\n",
      "Profile OK\n",
      "Profile OK\n",
      "Profile OK\n",
      "Profile OK\n",
      "Profile OK\n",
      "Profile OK\n",
      "Profile OK\n",
      "Profile OK\n",
      "Profile OK\n",
      "Profile OK\n",
      "Profile OK\n",
      "Profile OK\n",
      "Profile OK\n",
      "Profile OK\n",
      "Profile OK\n",
      "Profile OK\n",
      "Profile OK\n",
      "Profile OK\n",
      "Profile OK\n",
      "Profile OK\n",
      "Profile OK\n",
      "Profile OK\n",
      "Profile OK\n",
      "Profile OK\n",
      "Profile OK\n",
      "Profile OK\n",
      "Profile OK\n",
      "Profile OK\n",
      "Profile OK\n",
      "Profile OK\n",
      "Profile OK\n",
      "Profile OK\n",
      "Profile OK\n",
      "Profile OK\n",
      "Profile OK\n",
      "Profile OK\n",
      "Profile OK\n",
      "Profile OK\n",
      "Profile OK\n",
      "Profile OK\n",
      "Profile OK\n",
      "Profile OK\n",
      "Profile OK\n",
      "Profile OK\n",
      "Profile OK\n",
      "Profile OK\n",
      "Profile OK\n",
      "Profile OK\n",
      "Profile OK\n",
      "Profile OK\n",
      "Profile OK\n",
      "Profile OK\n",
      "Profile OK\n",
      "Profile OK\n",
      "Profile OK\n",
      "Profile OK\n",
      "Profile OK\n",
      "Profile OK\n",
      "Profile OK\n",
      "Profile OK\n",
      "Profile OK\n",
      "Profile OK\n",
      "Profile OK\n",
      "Profile OK\n",
      "Profile OK\n",
      "Profile OK\n",
      "Profile OK\n",
      "Profile OK\n",
      "Profile OK\n",
      "Profile OK\n",
      "Profile OK\n",
      "Profile OK\n",
      "Profile OK\n",
      "Profile OK\n"
     ]
    }
   ],
   "source": [
    "# crawl\n",
    "input_page = int(input('How many pages you want to scrape: '))\n",
    "for page in range(input_page):\n",
    "    for house in list_houses: \n",
    "        data_house = {\n",
    "            'title': '',\n",
    "            'address': '',\n",
    "            'price': '',\n",
    "            'area': '',\n",
    "        }\n",
    "        try:\n",
    "            title = house.find('p', class_='p-info-listing').text\n",
    "            address = house.find('p', class_='p-location').text\n",
    "            title_price = house.find('h3', class_='h3-title-price').text\n",
    "            price = title_price.split()[0]+' tỷ'\n",
    "            bl_tilities = house.find('div', class_='bl-tilities').text\n",
    "            area = bl_tilities.split()[2]+' m2' \n",
    "\n",
    "            data_house['title'] = title\n",
    "            data_house['address'] = address\n",
    "            data_house['price'] = price\n",
    "            data_house['area'] = area\n",
    "            \n",
    "            data_real_estate.append(data_house)\n",
    "        except NameError:\n",
    "                print('Variable is not defined')\n",
    "        except:\n",
    "                print('Some else went wrong')\n",
    "#         title = house.find('p', class_='p-info-listing').text\n",
    "#         address = house.find('p', class_='p-location').text\n",
    "#         title_price = house.find('h3', class_='h3-title-price').text\n",
    "#         price = title_price.split()[0]+' tỷ'\n",
    "#         bl_tilities = house.find('div', class_='bl-tilities').text\n",
    "#         area = bl_tilities.split()[2]+' m2' \n",
    "        \n",
    "#         data_house['title'] = title\n",
    "#         data_house['address'] = address\n",
    "#         data_house['price'] = price\n",
    "#         data_house['area'] = area\n",
    "        \n",
    "#         data_real_estate.append(data_house) \n",
    "    sleep(2)\n",
    "    next_button = browser.find_element_by_css_selector('.next')\n",
    "    next_button.click()\n",
    "# print(data_real_estate)"
   ]
  },
  {
   "cell_type": "code",
   "execution_count": 40,
   "id": "a87d8887",
   "metadata": {},
   "outputs": [],
   "source": [
    "# create file csv\n",
    "# df = pd.DataFrame(data_real_estate)\n",
    "# df.to_csv(\"real-estate-data.csv\", index=False)\n",
    "# df.to_excel(\"data-real-estate.xlsx\")\n",
    "# browser.close()"
   ]
  },
  {
   "cell_type": "code",
   "execution_count": 9,
   "id": "d74635f6",
   "metadata": {},
   "outputs": [
    {
     "name": "stdout",
     "output_type": "stream",
     "text": [
      "Enter the file output name: real-estate-district-10\n"
     ]
    }
   ],
   "source": [
    "df = pd.DataFrame(data_real_estate)\n",
    "output_data_name = str(input('Enter the file output name: '))\n",
    "df.to_csv(output_data_name+\".csv\")"
   ]
  },
  {
   "cell_type": "code",
   "execution_count": 10,
   "id": "1a5ea492",
   "metadata": {},
   "outputs": [
    {
     "ename": "InvalidSessionIdException",
     "evalue": "Message: invalid session id\n",
     "output_type": "error",
     "traceback": [
      "\u001b[0;31m---------------------------------------------------------------------------\u001b[0m",
      "\u001b[0;31mInvalidSessionIdException\u001b[0m                 Traceback (most recent call last)",
      "\u001b[0;32m<ipython-input-10-26959efbf9ea>\u001b[0m in \u001b[0;36m<module>\u001b[0;34m\u001b[0m\n\u001b[1;32m      1\u001b[0m \u001b[0msleep\u001b[0m\u001b[0;34m(\u001b[0m\u001b[0;36m4\u001b[0m\u001b[0;34m)\u001b[0m\u001b[0;34m\u001b[0m\u001b[0;34m\u001b[0m\u001b[0m\n\u001b[0;32m----> 2\u001b[0;31m \u001b[0mbrowser\u001b[0m\u001b[0;34m.\u001b[0m\u001b[0mclose\u001b[0m\u001b[0;34m(\u001b[0m\u001b[0;34m)\u001b[0m\u001b[0;34m\u001b[0m\u001b[0;34m\u001b[0m\u001b[0m\n\u001b[0m",
      "\u001b[0;32m~/opt/anaconda3/lib/python3.8/site-packages/selenium/webdriver/remote/webdriver.py\u001b[0m in \u001b[0;36mclose\u001b[0;34m(self)\u001b[0m\n\u001b[1;32m    686\u001b[0m             \u001b[0mdriver\u001b[0m\u001b[0;34m.\u001b[0m\u001b[0mclose\u001b[0m\u001b[0;34m(\u001b[0m\u001b[0;34m)\u001b[0m\u001b[0;34m\u001b[0m\u001b[0;34m\u001b[0m\u001b[0m\n\u001b[1;32m    687\u001b[0m         \"\"\"\n\u001b[0;32m--> 688\u001b[0;31m         \u001b[0mself\u001b[0m\u001b[0;34m.\u001b[0m\u001b[0mexecute\u001b[0m\u001b[0;34m(\u001b[0m\u001b[0mCommand\u001b[0m\u001b[0;34m.\u001b[0m\u001b[0mCLOSE\u001b[0m\u001b[0;34m)\u001b[0m\u001b[0;34m\u001b[0m\u001b[0;34m\u001b[0m\u001b[0m\n\u001b[0m\u001b[1;32m    689\u001b[0m \u001b[0;34m\u001b[0m\u001b[0m\n\u001b[1;32m    690\u001b[0m     \u001b[0;32mdef\u001b[0m \u001b[0mquit\u001b[0m\u001b[0;34m(\u001b[0m\u001b[0mself\u001b[0m\u001b[0;34m)\u001b[0m\u001b[0;34m:\u001b[0m\u001b[0;34m\u001b[0m\u001b[0;34m\u001b[0m\u001b[0m\n",
      "\u001b[0;32m~/opt/anaconda3/lib/python3.8/site-packages/selenium/webdriver/remote/webdriver.py\u001b[0m in \u001b[0;36mexecute\u001b[0;34m(self, driver_command, params)\u001b[0m\n\u001b[1;32m    319\u001b[0m         \u001b[0mresponse\u001b[0m \u001b[0;34m=\u001b[0m \u001b[0mself\u001b[0m\u001b[0;34m.\u001b[0m\u001b[0mcommand_executor\u001b[0m\u001b[0;34m.\u001b[0m\u001b[0mexecute\u001b[0m\u001b[0;34m(\u001b[0m\u001b[0mdriver_command\u001b[0m\u001b[0;34m,\u001b[0m \u001b[0mparams\u001b[0m\u001b[0;34m)\u001b[0m\u001b[0;34m\u001b[0m\u001b[0;34m\u001b[0m\u001b[0m\n\u001b[1;32m    320\u001b[0m         \u001b[0;32mif\u001b[0m \u001b[0mresponse\u001b[0m\u001b[0;34m:\u001b[0m\u001b[0;34m\u001b[0m\u001b[0;34m\u001b[0m\u001b[0m\n\u001b[0;32m--> 321\u001b[0;31m             \u001b[0mself\u001b[0m\u001b[0;34m.\u001b[0m\u001b[0merror_handler\u001b[0m\u001b[0;34m.\u001b[0m\u001b[0mcheck_response\u001b[0m\u001b[0;34m(\u001b[0m\u001b[0mresponse\u001b[0m\u001b[0;34m)\u001b[0m\u001b[0;34m\u001b[0m\u001b[0;34m\u001b[0m\u001b[0m\n\u001b[0m\u001b[1;32m    322\u001b[0m             response['value'] = self._unwrap_value(\n\u001b[1;32m    323\u001b[0m                 response.get('value', None))\n",
      "\u001b[0;32m~/opt/anaconda3/lib/python3.8/site-packages/selenium/webdriver/remote/errorhandler.py\u001b[0m in \u001b[0;36mcheck_response\u001b[0;34m(self, response)\u001b[0m\n\u001b[1;32m    240\u001b[0m                 \u001b[0malert_text\u001b[0m \u001b[0;34m=\u001b[0m \u001b[0mvalue\u001b[0m\u001b[0;34m[\u001b[0m\u001b[0;34m'alert'\u001b[0m\u001b[0;34m]\u001b[0m\u001b[0;34m.\u001b[0m\u001b[0mget\u001b[0m\u001b[0;34m(\u001b[0m\u001b[0;34m'text'\u001b[0m\u001b[0;34m)\u001b[0m\u001b[0;34m\u001b[0m\u001b[0;34m\u001b[0m\u001b[0m\n\u001b[1;32m    241\u001b[0m             \u001b[0;32mraise\u001b[0m \u001b[0mexception_class\u001b[0m\u001b[0;34m(\u001b[0m\u001b[0mmessage\u001b[0m\u001b[0;34m,\u001b[0m \u001b[0mscreen\u001b[0m\u001b[0;34m,\u001b[0m \u001b[0mstacktrace\u001b[0m\u001b[0;34m,\u001b[0m \u001b[0malert_text\u001b[0m\u001b[0;34m)\u001b[0m\u001b[0;34m\u001b[0m\u001b[0;34m\u001b[0m\u001b[0m\n\u001b[0;32m--> 242\u001b[0;31m         \u001b[0;32mraise\u001b[0m \u001b[0mexception_class\u001b[0m\u001b[0;34m(\u001b[0m\u001b[0mmessage\u001b[0m\u001b[0;34m,\u001b[0m \u001b[0mscreen\u001b[0m\u001b[0;34m,\u001b[0m \u001b[0mstacktrace\u001b[0m\u001b[0;34m)\u001b[0m\u001b[0;34m\u001b[0m\u001b[0;34m\u001b[0m\u001b[0m\n\u001b[0m\u001b[1;32m    243\u001b[0m \u001b[0;34m\u001b[0m\u001b[0m\n\u001b[1;32m    244\u001b[0m     \u001b[0;32mdef\u001b[0m \u001b[0m_value_or_default\u001b[0m\u001b[0;34m(\u001b[0m\u001b[0mself\u001b[0m\u001b[0;34m,\u001b[0m \u001b[0mobj\u001b[0m\u001b[0;34m,\u001b[0m \u001b[0mkey\u001b[0m\u001b[0;34m,\u001b[0m \u001b[0mdefault\u001b[0m\u001b[0;34m)\u001b[0m\u001b[0;34m:\u001b[0m\u001b[0;34m\u001b[0m\u001b[0;34m\u001b[0m\u001b[0m\n",
      "\u001b[0;31mInvalidSessionIdException\u001b[0m: Message: invalid session id\n"
     ]
    }
   ],
   "source": [
    "sleep(4)\n",
    "browser.close()"
   ]
  },
  {
   "cell_type": "code",
   "execution_count": null,
   "id": "c68276da",
   "metadata": {},
   "outputs": [],
   "source": []
  }
 ],
 "metadata": {
  "kernelspec": {
   "display_name": "Python 3",
   "language": "python",
   "name": "python3"
  },
  "language_info": {
   "codemirror_mode": {
    "name": "ipython",
    "version": 3
   },
   "file_extension": ".py",
   "mimetype": "text/x-python",
   "name": "python",
   "nbconvert_exporter": "python",
   "pygments_lexer": "ipython3",
   "version": "3.8.8"
  }
 },
 "nbformat": 4,
 "nbformat_minor": 5
}
