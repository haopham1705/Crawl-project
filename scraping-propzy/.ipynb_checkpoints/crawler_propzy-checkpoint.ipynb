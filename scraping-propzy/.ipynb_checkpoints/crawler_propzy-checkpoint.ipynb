{
 "cells": [
  {
   "cell_type": "code",
   "execution_count": 1,
   "id": "6798e246",
   "metadata": {},
   "outputs": [
    {
     "name": "stdout",
     "output_type": "stream",
     "text": [
      "import library sucessful\n"
     ]
    }
   ],
   "source": [
    "# import package\n",
    "from datetime import datetime, timedelta\n",
    "from selenium import webdriver\n",
    "from selenium.webdriver.common.keys import Keys\n",
    "from selenium.webdriver.support.select import Select\n",
    "from bs4 import BeautifulSoup\n",
    "from time import sleep\n",
    "import pandas as pd\n",
    "print(\"import library sucessful\")"
   ]
  },
  {
   "cell_type": "code",
   "execution_count": 35,
   "id": "0ea6b878",
   "metadata": {},
   "outputs": [],
   "source": [
    "# open website\n",
    "url = 'https://propzy.vn/'\n",
    "browser = webdriver.Chrome()\n",
    "sleep(2)\n",
    "browser.get(url)"
   ]
  },
  {
   "cell_type": "code",
   "execution_count": 37,
   "id": "eb543d3c",
   "metadata": {},
   "outputs": [
    {
     "name": "stdout",
     "output_type": "stream",
     "text": [
      "Enter address you want to search?thu duc\n"
     ]
    }
   ],
   "source": [
    "# searching\n",
    "search_field = browser.find_element_by_xpath('/html/body/div[1]/section[1]/div[2]/div/div/div[2]/div/div/div/div[1]/div/div[2]/div/input') \n",
    "search_query = input('Enter address you want to search?')\n",
    "search_field.send_keys(search_query)\n",
    "search_field.send_keys(Keys.RETURN)\n",
    "sleep(2)"
   ]
  },
  {
   "cell_type": "code",
   "execution_count": 38,
   "id": "fc3b6e7f",
   "metadata": {},
   "outputs": [],
   "source": [
    "soup = BeautifulSoup(browser.page_source, 'lxml')\n",
    "list_houses = soup.find_all('div', class_='item-listing listing-card view-as-grid item-compare')\n",
    "# print(list_estates)\n",
    "data_real_estate = []"
   ]
  },
  {
   "cell_type": "code",
   "execution_count": 39,
   "id": "0284920a",
   "metadata": {},
   "outputs": [
    {
     "name": "stdout",
     "output_type": "stream",
     "text": [
      "How many pages you want to scrape: 10\n"
     ]
    }
   ],
   "source": [
    "# crawl\n",
    "input_page = int(input('How many pages you want to scrape: '))\n",
    "for page in range(input_page):\n",
    "    for house in list_houses: \n",
    "        data_house = {\n",
    "            'title': '',\n",
    "            'address': '',\n",
    "            'price': '',\n",
    "            'area': '',\n",
    "        }\n",
    "        title = house.find('p', class_='p-info-listing').text\n",
    "        address = house.find('p', class_='p-location').text\n",
    "        title_price = house.find('h3', class_='h3-title-price').text\n",
    "        price = title_price.split()[0]+' tỷ'\n",
    "        bl_tilities = house.find('div', class_='bl-tilities').text\n",
    "        area = bl_tilities.split()[2]+' m2' \n",
    "        \n",
    "        data_house['title'] = title\n",
    "        data_house['address'] = address\n",
    "        data_house['price'] = price\n",
    "        data_house['area'] = area\n",
    "        \n",
    "        data_real_estate.append(data_house) \n",
    "    sleep(2)\n",
    "    next_button = browser.find_element_by_css_selector('.next')\n",
    "    next_button.click()\n",
    "# print(data_real_estate)"
   ]
  },
  {
   "cell_type": "code",
   "execution_count": 40,
   "id": "a87d8887",
   "metadata": {},
   "outputs": [],
   "source": [
    "# create file csv\n",
    "df = pd.DataFrame(data_real_estate)\n",
    "df.to_csv(\"real-estate-data.csv\", index=False)\n",
    "browser.close()"
   ]
  },
  {
   "cell_type": "code",
   "execution_count": null,
   "id": "1a5ea492",
   "metadata": {},
   "outputs": [],
   "source": [
    "# df = pd.DataFrame(data_real_estate)\n",
    "# df.to_excel(\"data-real-estate.xlsx\")"
   ]
  }
 ],
 "metadata": {
  "kernelspec": {
   "display_name": "Python 3",
   "language": "python",
   "name": "python3"
  },
  "language_info": {
   "codemirror_mode": {
    "name": "ipython",
    "version": 3
   },
   "file_extension": ".py",
   "mimetype": "text/x-python",
   "name": "python",
   "nbconvert_exporter": "python",
   "pygments_lexer": "ipython3",
   "version": "3.8.8"
  }
 },
 "nbformat": 4,
 "nbformat_minor": 5
}
