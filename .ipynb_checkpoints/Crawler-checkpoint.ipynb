{
 "cells": [
  {
   "cell_type": "code",
   "execution_count": null,
   "id": "bfc9545e",
   "metadata": {},
   "outputs": [],
   "source": [
    "from bs4 import BeautifulSoup\n",
    "import requests\n",
    "import time\n",
    "from datetime import datetime\n",
    "\n",
    "def find_jobs():\n",
    "    html_text = requests.get(\"https://www.timesjobs.com/candidate/job-search.html?searchType=personalizedSearch&from=submit&txtKeywords=python&txtLocation=\")\n",
    "    soup      = BeautifulSoup(html_text.text,'lxml')\n",
    "    jobs      = soup.find_all('li',  class_ = \"clearfix job-bx wht-shd-bx\")\n",
    "\n",
    "    for index,job in enumerate(jobs):\n",
    "        file_name = \"post_\" + str(index) + \"_.txt\"\n",
    "        published_date = job.find('span', class_ = \"sim-posted\")\n",
    "\n",
    "        if \"few\" in published_date.text:\n",
    "            more_info      = job.header.h2.a\n",
    "            company_name   = job.find('h3',   class_ = \"joblist-comp-name\")\n",
    "            skills         = job.find('span', class_ = \"srp-skills\")\n",
    "\n",
    "            if unfamiliar_skill not in skills:\n",
    "                with open(file_name,\"w\") as f:\n",
    "                    \n",
    "                    print(f\"Company Name    : {company_name.text.strip()}\")\n",
    "                    f.write(f\"Company Name  : {company_name.text.strip()} \\n\")\n",
    "                    print(f\"Required Skill: :{skills.text.strip()}\")\n",
    "                    f.write(f\"Required Skill: {skills.text.strip()} \\n\")\n",
    "                    print(f\"More Info       : {more_info['href']}\")\n",
    "                    f.write(f\"More Info     : {more_info['href']} \\n\")\n",
    "                \n",
    "                print(\"File saved\")\n",
    "\n",
    "# Take a html text from url\n",
    "print(\"Time Period\")\n",
    "time_wait = int(input(\">\"))\n",
    "\n",
    "print(\"Put some skill you are not familiar with\")\n",
    "unfamiliar_skill = input(\">\")\n",
    "print(\"Filtering out {unfamiliar_skill}\")\n",
    "\n",
    "if __name__ == \"__main__\":\n",
    "    while True:\n",
    "        now = datetime.now()\n",
    "        print(now)\n",
    "        find_jobs()\n",
    "        time.sleep(time_wait)"
   ]
  },
  {
   "cell_type": "code",
   "execution_count": null,
   "id": "03d9276b",
   "metadata": {},
   "outputs": [],
   "source": []
  }
 ],
 "metadata": {
  "kernelspec": {
   "display_name": "Python 3",
   "language": "python",
   "name": "python3"
  },
  "language_info": {
   "codemirror_mode": {
    "name": "ipython",
    "version": 3
   },
   "file_extension": ".py",
   "mimetype": "text/x-python",
   "name": "python",
   "nbconvert_exporter": "python",
   "pygments_lexer": "ipython3",
   "version": "3.8.8"
  }
 },
 "nbformat": 4,
 "nbformat_minor": 5
}
